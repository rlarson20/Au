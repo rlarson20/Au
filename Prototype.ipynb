{
 "cells": [
  {
   "cell_type": "code",
   "execution_count": 1,
   "id": "4b8e1fc4-e23b-46c9-835f-4b157efb4890",
   "metadata": {},
   "outputs": [
    {
     "name": "stdout",
     "output_type": "stream",
     "text": [
      "\u001b[2mResolved \u001b[1m58 packages\u001b[0m \u001b[2min 0.79ms\u001b[0m\u001b[0m\n",
      "\u001b[2mAudited \u001b[1m23 packages\u001b[0m \u001b[2min 0.16ms\u001b[0m\u001b[0m\n"
     ]
    }
   ],
   "source": [
    "!uv add pydantic openai dotenv jsonschema"
   ]
  },
  {
   "cell_type": "code",
   "execution_count": 2,
   "id": "b1a05823-8a93-47fa-b314-4c994ad1a58f",
   "metadata": {},
   "outputs": [],
   "source": [
    "from pydantic import BaseModel, Field, ConfigDict\n",
    "from typing import Callable, Any\n",
    "from openai import OpenAI\n",
    "from os import getenv\n",
    "from dotenv import load_dotenv\n",
    "\n",
    "import inspect\n",
    "import httpx\n",
    "\n",
    "import os\n",
    "import json\n",
    "import jsonschema\n",
    "from jsonschema import Draft7Validator\n",
    "\n",
    "from copy import deepcopy\n",
    "from pprint import pprint as pp"
   ]
  },
  {
   "cell_type": "code",
   "execution_count": 3,
   "id": "17141722-da7e-4856-8575-904d67837f47",
   "metadata": {},
   "outputs": [],
   "source": [
    "def basic_type_converter(t):\n",
    "    if t == 'str':\n",
    "        return 'string'\n",
    "    if t == 'int' or t == 'float':\n",
    "        return 'number'\n",
    "    if t == 'list':\n",
    "        return 'array'\n",
    "    #TODO: more complicated processing for dictionary types"
   ]
  },
  {
   "cell_type": "code",
   "execution_count": 4,
   "id": "2ed48eee-184d-4cc6-976a-b5cba84b253f",
   "metadata": {},
   "outputs": [],
   "source": [
    "def get_func_desc(func):\n",
    "    desc = ''\n",
    "    vals = []\n",
    "    for x in deepcopy(func.__doc__).split('\\n'):\n",
    "        if x != '':\n",
    "            vals.append(x.strip())\n",
    "    idx = vals.index('Args:')\n",
    "    for x in vals[:idx]:\n",
    "        desc += x\n",
    "    return desc"
   ]
  },
  {
   "cell_type": "code",
   "execution_count": 5,
   "id": "315e562f-e442-4d15-b4a2-53ad687b3ae3",
   "metadata": {},
   "outputs": [],
   "source": [
    "class ToolDefinition(BaseModel):\n",
    "    function: Callable\n",
    "    name: str = Field(default_factory=lambda data: data['function'].__name__)\n",
    "    desc: str = Field(default_factory=lambda data: get_func_desc(data['function']))\n",
    "\n",
    "    #TODO: fix no-argument, no-default tools not being supported\n",
    "    def format_props(self):\n",
    "        raw_props = []\n",
    "        for x in deepcopy(self.function.__doc__.split('\\n')):\n",
    "            if x != '':\n",
    "                raw_props.append(x.strip())\n",
    "        idx = raw_props.index('Args:')+1\n",
    "        props = {}\n",
    "        for arg in raw_props[idx:]:\n",
    "            name, ty, des = [x.strip() for x in arg.split(':')]\n",
    "            props[name] = {\"type\": basic_type_converter(ty), \"description\": des}\n",
    "        return props\n",
    "\n",
    "    def format_req(self):\n",
    "        ret = deepcopy(list(self.function.__annotations__.keys()))\n",
    "        if 'return' in ret:\n",
    "            ret.remove('return')\n",
    "        return ret\n",
    "    \n",
    "    def format_tool(self):\n",
    "        return json.dumps({\n",
    "            \"type\": \"function\",\n",
    "            \"function\": {\n",
    "                \"name\": self.name,\n",
    "                \"description\": self.desc,\n",
    "                \"strict\": True,\n",
    "                \"parameters\": {\n",
    "                    \"type\": \"object\",\n",
    "                    \"properties\": self.format_props(),\n",
    "                    \"required\": self.format_req(),\n",
    "                    \"additionalProperties\": False\n",
    "                }\n",
    "            }\n",
    "        })"
   ]
  },
  {
   "cell_type": "code",
   "execution_count": 6,
   "id": "1bdcc923-16e9-4464-971c-efbf4cef1bf8",
   "metadata": {},
   "outputs": [],
   "source": [
    "def read_file(path: str) -> str:\n",
    "    \"\"\"\n",
    "    Reads the content of a file.\n",
    "    Args: \n",
    "    path: str: the path of the file to be read\n",
    "    \"\"\"\n",
    "    try:\n",
    "        with open(path, 'r') as f:\n",
    "            return f.read()\n",
    "    except Exception as e:\n",
    "        return f\"Error: {str(e)}\""
   ]
  },
  {
   "cell_type": "code",
   "execution_count": 7,
   "id": "d9465a1a-ff78-4475-81ee-17edede7a084",
   "metadata": {},
   "outputs": [],
   "source": [
    "def list_files(path: str = \"\") -> list:\n",
    "    \"\"\"\n",
    "    Lists the files in a directory.\n",
    "    Defaults to the current working directory.\n",
    "    Args:\n",
    "    path: str: the directory path to list files from. Defaults to cwd if empty.\n",
    "    \"\"\"\n",
    "    target = path or \".\"\n",
    "    try:\n",
    "        entries = os.listdir(target)\n",
    "        return [\n",
    "            f\"{entry}\" if os.path.isdir(os.path.join(target, entry)) else entry\n",
    "            for entry in entries\n",
    "        ]\n",
    "    except Exception as e:\n",
    "        return [f\"Error: {str(e)}\"]"
   ]
  },
  {
   "cell_type": "code",
   "execution_count": 8,
   "id": "2d79a81a-2fb7-44c2-b42c-676fb96550d3",
   "metadata": {},
   "outputs": [],
   "source": [
    "def edit_file(path: str, old: str, new: str) -> str:\n",
    "    \"\"\"\n",
    "    Replaces occurrences of old with new in file at path.\n",
    "    Creates file if it does not exist.\n",
    "    Args:\n",
    "    path: str: the file path to edit or create.\n",
    "    old: str: the substring to be replaced.\n",
    "    new: str: the new substring to replace the old.\n",
    "    \"\"\"\n",
    "    try:\n",
    "        # Create file if it doesn't exist\n",
    "        if not os.path.exists(path):\n",
    "            os.makedirs(os.path.dirname(path), exist_ok=True)\n",
    "            with open(path, 'w') as f:\n",
    "                f.write(\"\")  # Create empty file\n",
    "            return f\"Created {path}\"\n",
    "        \n",
    "        # Read existing file\n",
    "        with open(path, 'r') as f:\n",
    "            content = f.read()\n",
    "        \n",
    "        # Replace old with new\n",
    "        new_content = content.replace(old, new)\n",
    "        \n",
    "        # Check if replacement actually happened\n",
    "        if content == new_content:\n",
    "            return \"Error: old not found\"\n",
    "        \n",
    "        # Write back to file\n",
    "        with open(path, 'w') as f:\n",
    "            f.write(new_content)\n",
    "        \n",
    "        return \"Edit successful\"\n",
    "        \n",
    "    except Exception as e:\n",
    "        return f\"Error: {str(e)}\""
   ]
  },
  {
   "cell_type": "code",
   "execution_count": 9,
   "id": "21926228-ff7c-4a6c-8be5-3a694988fd80",
   "metadata": {},
   "outputs": [],
   "source": [
    "class Agent(BaseModel):\n",
    "    model_config=ConfigDict(arbitrary_types_allowed=True)\n",
    "\n",
    "    client: OpenAI\n",
    "    model: str #TODO: validate against openrouter API\n",
    "    tools: dict[str, ToolDefinition]\n",
    "    conversation: list[dict] = []\n",
    "\n",
    "    def build_tool_schema(self):\n",
    "        schemas = []\n",
    "        for tool in self.tools.values():\n",
    "            schemas.append(json.loads(tool.format_tool()))\n",
    "        return schemas\n",
    "\n",
    "    def user_message(self, user_in):\n",
    "        return {\n",
    "                \"role\": \"user\",\n",
    "                \"content\": [{\"type\": \"text\", \"text\": user_in}]\n",
    "            }\n",
    "    \n",
    "    def run(self):\n",
    "        print(f\"Chat with {self.model} (use 'quit' to quit)\")\n",
    "        while True:\n",
    "            user_input = input(\"\\033[94mYou: \\033[0m\").strip()\n",
    "            if user_input.lower() == \"quit\":\n",
    "                break\n",
    "\n",
    "            self.conversation.append(self.user_message(user_input))\n",
    "\n",
    "            response = self.get_llm_response()\n",
    "            self.handle_response(response)\n",
    "\n",
    "    def get_llm_response(self) -> 'openai.types.chat.chat_completion_message.ChatCompletionMessage':\n",
    "        response = self.client.chat.completions.create(\n",
    "            model=self.model,\n",
    "            messages=self.conversation,\n",
    "            tools=self.build_tool_schema(),\n",
    "            tool_choice=\"auto\"\n",
    "        )\n",
    "        self.conversation.append(response.choices[0].message.model_dump())\n",
    "        return response\n",
    "\n",
    "    def execute_single_tool_call(self, tool_call):\n",
    "        \"\"\"Execute a tool call and return the formatted response\"\"\"\n",
    "        tool_name = tool_call.function.name\n",
    "        tool_args = json.loads(tool_call.function.arguments)\n",
    "\n",
    "        #check if tool exists\n",
    "        if tool_name not in self.tools:\n",
    "            return {\n",
    "            \"role\": \"tool\",\n",
    "            \"tool_call_id\": tool_call.id,\n",
    "            \"name\": tool_name,\n",
    "            \"content\": f\"Error: Unknown tool:{tool_name}\",\n",
    "        }\n",
    "        #execute\n",
    "        tool_func = self.tools[tool_name].function\n",
    "        try:\n",
    "            tool_result = tool_func(**tool_args)\n",
    "        except Exception as e:\n",
    "            tool_result = f\"Tool execution error: {str(e)}\"\n",
    "            \n",
    "        return {\n",
    "            \"role\": \"tool\",\n",
    "            \"tool_call_id\": tool_call.id,\n",
    "            \"name\": tool_name,\n",
    "            \"content\": str(tool_result),\n",
    "        }\n",
    "\n",
    "    def handle_response(self, response):\n",
    "        if response.choices[0].message.tool_calls:\n",
    "            for tool_call in response.choices[0].message.tool_calls:\n",
    "                tool_response = self.execute_single_tool_call(tool_call)\n",
    "                self.conversation.append(tool_response)\n",
    "            \n",
    "        \n",
    "            # Get another response from the LLM with the tool results\n",
    "            new_response = self.get_llm_response()\n",
    "            # Recursively handle the new response (in case it has more tool calls)\n",
    "            self.handle_response(new_response)\n",
    "        else:\n",
    "            # No tool calls - this is the final response\n",
    "            final_content = response.choices[0].message.content\n",
    "            print(f\"\\033[92mAgent: \\033[0m{final_content}\")"
   ]
  },
  {
   "cell_type": "code",
   "execution_count": 10,
   "id": "cd1ddf30-5f82-4cf9-94ec-1460ed11859b",
   "metadata": {},
   "outputs": [],
   "source": [
    "url = \"https://openrouter.ai/api/v1/models\"\n",
    "model_resp = httpx.get(url)"
   ]
  },
  {
   "cell_type": "code",
   "execution_count": 11,
   "id": "3429b2d8-880d-4287-841a-9892cb036f02",
   "metadata": {},
   "outputs": [],
   "source": [
    "load_dotenv()\n",
    "\n",
    "# gets API Key from environment variable OPENROUTER_API_KEY\n",
    "cli = OpenAI(\n",
    "  base_url=\"https://openrouter.ai/api/v1\",\n",
    "  api_key=getenv(\"OPENROUTER_API_KEY\"),\n",
    ")\n",
    "test_model = 'anthropic/claude-sonnet-4'\n",
    "cat = ToolDefinition(function=read_file)\n",
    "ls = ToolDefinition(function=list_files)\n",
    "ed = ToolDefinition(function=edit_file)\n",
    "tool_dic = {\"read_file\": cat, \"list_files\": ls, \"edit_file\": ed}\n",
    "AUgent = Agent(client=cli, model=test_model, tools=tool_dic)"
   ]
  },
  {
   "cell_type": "code",
   "execution_count": 12,
   "id": "ce91aef4-0a28-414b-837e-c0fe6c73790c",
   "metadata": {
    "scrolled": true
   },
   "outputs": [],
   "source": [
    "raw_models = model_resp.json()['data']\n",
    "model_info = [{x['id']: x['pricing']} for x in raw_models]\n",
    "#gets all anthropic models\n",
    "#pp([x for x in model_info if 'anthropic' in list(x.keys())[0]])"
   ]
  },
  {
   "cell_type": "code",
   "execution_count": 13,
   "id": "c4a775e9-f6d7-4237-a951-89c2cc34bc22",
   "metadata": {},
   "outputs": [
    {
     "name": "stdout",
     "output_type": "stream",
     "text": [
      "Chat with anthropic/claude-sonnet-4 (use 'quit' to quit)\n"
     ]
    },
    {
     "name": "stdin",
     "output_type": "stream",
     "text": [
      "\u001b[94mYou: \u001b[0m List the files in the current directory and then read the contents of the first Python file you find.\n"
     ]
    },
    {
     "name": "stdout",
     "output_type": "stream",
     "text": [
      "\u001b[92mAgent: \u001b[0mHere are the results:\n",
      "\n",
      "**Files in the current directory:**\n",
      "- uv.lock\n",
      "- untitled.md\n",
      "- pyproject.toml\n",
      "- untitled2.md\n",
      "- Prototype.ipynb\n",
      "- editfile.json\n",
      "- readfile.json\n",
      "- streaming.md\n",
      "- untitled1.md\n",
      "- README.md\n",
      "- .gitignore\n",
      "- .env\n",
      "- .venv\n",
      "- .python-version\n",
      "- .ipynb_checkpoints\n",
      "- deepseek-agent-take-2.md\n",
      "- .git\n",
      "- **main.py** (Python file)\n",
      "- listfiles.json\n",
      "- deepseek-agent.md\n",
      "- nohup.out\n",
      "\n",
      "**Contents of main.py:**\n",
      "```python\n",
      "def main():\n",
      "    print(\"Hello from au!\")\n",
      "\n",
      "\n",
      "if __name__ == \"__main__\":\n",
      "    main()\n",
      "```\n",
      "\n",
      "The Python file contains a simple \"Hello World\" style program that prints \"Hello from au!\" when executed.\n"
     ]
    },
    {
     "name": "stdin",
     "output_type": "stream",
     "text": [
      "\u001b[94mYou: \u001b[0m Now write a function inside that python file that calculates FizzBuzz up to the given input.\n"
     ]
    },
    {
     "name": "stdout",
     "output_type": "stream",
     "text": [
      "\u001b[92mAgent: \u001b[0mPerfect! I've added a `fizzbuzz` function to the main.py file. Here's what I added:\n",
      "\n",
      "1. **fizzbuzz(n) function** that:\n",
      "   - Takes an integer `n` as input (the upper limit)\n",
      "   - Returns a list with FizzBuzz results from 1 to n\n",
      "   - Follows the classic FizzBuzz rules:\n",
      "     - \"FizzBuzz\" for numbers divisible by both 3 and 5\n",
      "     - \"Fizz\" for numbers divisible by 3\n",
      "     - \"Buzz\" for numbers divisible by 5\n",
      "     - The number itself for all other cases\n",
      "\n",
      "2. **Updated main() function** that:\n",
      "   - Still prints the original \"Hello from au!\" message\n",
      "   - Demonstrates the FizzBuzz function by running it up to 15\n",
      "   - Prints each result with its corresponding number\n",
      "\n",
      "The function is well-documented with a docstring and includes a test demonstration in the main function. When you run the file, it will show the FizzBuzz sequence from 1 to 15 as an example.\n"
     ]
    },
    {
     "name": "stdin",
     "output_type": "stream",
     "text": [
      "\u001b[94mYou: \u001b[0m quit\n"
     ]
    }
   ],
   "source": [
    "AUgent.run()"
   ]
  },
  {
   "cell_type": "code",
   "execution_count": null,
   "id": "9ace2bd0-ebb0-4b73-85a6-46898fc33630",
   "metadata": {},
   "outputs": [],
   "source": []
  }
 ],
 "metadata": {
  "kernelspec": {
   "display_name": "Au",
   "language": "python",
   "name": "au"
  },
  "language_info": {
   "codemirror_mode": {
    "name": "ipython",
    "version": 3
   },
   "file_extension": ".py",
   "mimetype": "text/x-python",
   "name": "python",
   "nbconvert_exporter": "python",
   "pygments_lexer": "ipython3",
   "version": "3.13.2"
  }
 },
 "nbformat": 4,
 "nbformat_minor": 5
}
